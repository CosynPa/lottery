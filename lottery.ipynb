{
 "cells": [
  {
   "cell_type": "markdown",
   "metadata": {},
   "source": [
    "## Introduction\n",
    "\n",
    "There are lottery systems in many games. The simplest implementation is that one gives a fixed probability and draws the lottery with that probability. The number of trials for a win has a geometric distribution. This distribution has a drawback that the variance is very large especially when the probability is low. So we'd like to have some alternative systems to solve this problem."
   ]
  },
  {
   "cell_type": "code",
   "execution_count": 1,
   "metadata": {},
   "outputs": [],
   "source": [
    "import numpy as np\n",
    "import plotly\n",
    "import plotly.graph_objs as go\n",
    "import random\n",
    "\n",
    "from utils import *"
   ]
  },
  {
   "cell_type": "markdown",
   "metadata": {},
   "source": [
    "### Let's first see how the geometric distribution looks like"
   ]
  },
  {
   "cell_type": "code",
   "execution_count": 2,
   "metadata": {},
   "outputs": [],
   "source": [
    "def geometric(p):\n",
    "    \"\"\"Returns the procedure for the geometric distribution\"\"\"\n",
    "    def procedure():\n",
    "        return random.random() < p\n",
    "    return procedure"
   ]
  },
  {
   "cell_type": "code",
   "execution_count": 3,
   "metadata": {},
   "outputs": [
    {
     "data": {
      "text/plain": [
       "False"
      ]
     },
     "execution_count": 3,
     "metadata": {},
     "output_type": "execute_result"
    }
   ],
   "source": [
    "geometric(0.1)()"
   ]
  },
  {
   "cell_type": "code",
   "execution_count": 4,
   "metadata": {},
   "outputs": [],
   "source": [
    "geometric_dic = mc(geometric(0.01), simulation=1_000_000)"
   ]
  },
  {
   "cell_type": "code",
   "execution_count": 5,
   "metadata": {},
   "outputs": [
    {
     "data": {
      "text/plain": [
       "(98.88479034810126, 100.19243613568263)"
      ]
     },
     "execution_count": 5,
     "metadata": {},
     "output_type": "execute_result"
    }
   ],
   "source": [
    "get_mean_std(geometric_dic)"
   ]
  },
  {
   "cell_type": "code",
   "execution_count": 6,
   "metadata": {},
   "outputs": [],
   "source": [
    "def theoretical_geometric_mean_std(p):\n",
    "    mean = 1 / p\n",
    "    var = (1 - p) / p / p\n",
    "    return mean, np.sqrt(var)"
   ]
  },
  {
   "cell_type": "code",
   "execution_count": 7,
   "metadata": {},
   "outputs": [
    {
     "data": {
      "text/plain": [
       "(100.0, 99.498743710662)"
      ]
     },
     "execution_count": 7,
     "metadata": {},
     "output_type": "execute_result"
    }
   ],
   "source": [
    "theoretical_geometric_mean_std(0.01)"
   ]
  },
  {
   "cell_type": "code",
   "execution_count": 8,
   "metadata": {},
   "outputs": [
    {
     "data": {
      "application/vnd.jupyter.widget-view+json": {
       "model_id": "40727cfc8c7f4138953a0471f2e1e6e3",
       "version_major": 2,
       "version_minor": 0
      },
      "text/plain": [
       "FigureWidget({\n",
       "    'data': [{'type': 'scatter',\n",
       "              'uid': '66fcc7d5-3d80-4f92-b8e2-d4b3c53c5ce5',\n",
       " …"
      ]
     },
     "metadata": {},
     "output_type": "display_data"
    }
   ],
   "source": [
    "plot_pdf(geometric_dic)"
   ]
  },
  {
   "cell_type": "code",
   "execution_count": 9,
   "metadata": {},
   "outputs": [
    {
     "data": {
      "application/vnd.jupyter.widget-view+json": {
       "model_id": "8e313b431620468e8c4febcdfcd16cbb",
       "version_major": 2,
       "version_minor": 0
      },
      "text/plain": [
       "FigureWidget({\n",
       "    'data': [{'type': 'scatter',\n",
       "              'uid': '0413eb36-54f1-4d39-bbb5-aafaa7ec81f8',\n",
       " …"
      ]
     },
     "metadata": {},
     "output_type": "display_data"
    }
   ],
   "source": [
    "plot_cdf(geometric_dic)"
   ]
  },
  {
   "cell_type": "markdown",
   "metadata": {},
   "source": [
    "### For simple a geometric distribution, we see even though the mean is only 100, but there is still some probability to fail more than 300 trials\n",
    "\n",
    "## A Better Solution\n",
    "\n",
    "The challenging thing is how to make another probability distribution but keep the expectation unchanged. Suppose we'd like the expectation of every trial to be 0.01. When we fail for one trial, we don't want to lose completely but gain some value such as 0.005 which means in later trials it will generate the expectation of 0.005. \n",
    "\n",
    "Now we need to calculate the probability of winning and losing. Assume the winning probability is $a$, and the losing probability is $1 - a$. When win we gain 1, when lose we gain 0.005. So the \"expectation\" will be $a + 0.005 (1 - a)$, which should be equal to 0.01. So we can solve the equation to get that $a = \\frac{1}{199}$.\n",
    "\n",
    "So the initial probability is decreased, but later probability should raise, how? Take an example that we failed 60 trials, the gained value is accumulated to 0.3. If we win for the next trial, we consider that the value of 0.3 is used and it should be set back to zero, meaning that we only gain 0.7 since the gained value is decreased by 0.3. If the winning probability were still $\\frac{1}{199}$, we gained less, so the probability should increase. The expectation of the next trial is $(1 - 0.3) a + 0.005 (1 - a)$. Again we can get the value of $a$.\n",
    "\n",
    "One more thing to notice is that when the accumulated gained value is more than 0.99. The solution gives a probability that is greater than 1. In fact even if we have probability of 1 to win, the gain is still less than 0.01 if the accumulated gain is reset to zero after win. So in this case, we should not set the accumulated gain to zero, we should first add 0.01 and then subtract 1 instead.\n",
    "\n",
    "### Let's see how to implement it in general"
   ]
  },
  {
   "cell_type": "code",
   "execution_count": 10,
   "metadata": {},
   "outputs": [],
   "source": [
    "def accumulated(p, x, start=0):\n",
    "    \"\"\"Create a procedure that has the expectation of p and the gaining value increase by x for every failed trial\"\"\"\n",
    "    assert p >= x >= 0\n",
    "    left = start\n",
    "    def procedure():\n",
    "        nonlocal left\n",
    "        if left + p < 1:\n",
    "            # Note, p >= x and left + p < 1 guarantee 1 - left - x > 0\n",
    "            r = (p - x) / (1 - left - x)\n",
    "            win = random.random() < r\n",
    "            if win:\n",
    "                # Normally `left` should be set to 0.\n",
    "                # Here we set to `start` to demonstrate the behavior when start from different values.\n",
    "                # See Remark section\n",
    "                left = start\n",
    "            else:\n",
    "                left += x\n",
    "            return win\n",
    "        else:\n",
    "            left = left + p - 1\n",
    "            return True\n",
    "    return procedure"
   ]
  },
  {
   "cell_type": "code",
   "execution_count": 11,
   "metadata": {},
   "outputs": [],
   "source": [
    "procedure = accumulated(0.01, 0.005)"
   ]
  },
  {
   "cell_type": "code",
   "execution_count": 12,
   "metadata": {},
   "outputs": [],
   "source": [
    "acc_dic = mc(procedure, simulation=1_000_000)"
   ]
  },
  {
   "cell_type": "code",
   "execution_count": 13,
   "metadata": {},
   "outputs": [
    {
     "data": {
      "text/plain": [
       "(99.65935818218058, 57.38092788293979)"
      ]
     },
     "execution_count": 13,
     "metadata": {},
     "output_type": "execute_result"
    }
   ],
   "source": [
    "get_mean_std(acc_dic)"
   ]
  },
  {
   "cell_type": "code",
   "execution_count": 14,
   "metadata": {},
   "outputs": [
    {
     "data": {
      "application/vnd.jupyter.widget-view+json": {
       "model_id": "2424d2480e904627be5f559278777ebf",
       "version_major": 2,
       "version_minor": 0
      },
      "text/plain": [
       "FigureWidget({\n",
       "    'data': [{'type': 'scatter',\n",
       "              'uid': 'ffb134d6-4a99-4c6c-8a69-776ffb26405a',\n",
       " …"
      ]
     },
     "metadata": {},
     "output_type": "display_data"
    }
   ],
   "source": [
    "plot_pdf(acc_dic)"
   ]
  },
  {
   "cell_type": "code",
   "execution_count": 15,
   "metadata": {
    "scrolled": false
   },
   "outputs": [
    {
     "data": {
      "application/vnd.jupyter.widget-view+json": {
       "model_id": "9b784a04b2a642849facd1a2d480278f",
       "version_major": 2,
       "version_minor": 0
      },
      "text/plain": [
       "FigureWidget({\n",
       "    'data': [{'type': 'scatter',\n",
       "              'uid': '0bdcb05a-05fc-44e3-a3d5-c7bb0e0fa69f',\n",
       " …"
      ]
     },
     "metadata": {},
     "output_type": "display_data"
    }
   ],
   "source": [
    "plot_cdf(acc_dic)"
   ]
  },
  {
   "cell_type": "markdown",
   "metadata": {},
   "source": [
    "### This seems to have a uniform distribution"
   ]
  },
  {
   "cell_type": "code",
   "execution_count": 16,
   "metadata": {},
   "outputs": [],
   "source": [
    "procedure = accumulated(0.01, 0.003)"
   ]
  },
  {
   "cell_type": "code",
   "execution_count": 17,
   "metadata": {},
   "outputs": [],
   "source": [
    "acc_dic = mc(procedure, simulation=1_000_000)"
   ]
  },
  {
   "cell_type": "code",
   "execution_count": 18,
   "metadata": {},
   "outputs": [
    {
     "data": {
      "text/plain": [
       "(99.25275488930805, 73.17226489650689)"
      ]
     },
     "execution_count": 18,
     "metadata": {},
     "output_type": "execute_result"
    }
   ],
   "source": [
    "get_mean_std(acc_dic)"
   ]
  },
  {
   "cell_type": "code",
   "execution_count": 19,
   "metadata": {},
   "outputs": [
    {
     "data": {
      "application/vnd.jupyter.widget-view+json": {
       "model_id": "6f7526bd93454415b63a2327e294f33c",
       "version_major": 2,
       "version_minor": 0
      },
      "text/plain": [
       "FigureWidget({\n",
       "    'data': [{'type': 'scatter',\n",
       "              'uid': 'a746014f-0b12-47f5-a619-a1bf5f997668',\n",
       " …"
      ]
     },
     "metadata": {},
     "output_type": "display_data"
    }
   ],
   "source": [
    "plot_pdf(acc_dic)"
   ]
  },
  {
   "cell_type": "code",
   "execution_count": 20,
   "metadata": {},
   "outputs": [
    {
     "data": {
      "application/vnd.jupyter.widget-view+json": {
       "model_id": "6303720a3fa84b5299ff6379e0d13bc3",
       "version_major": 2,
       "version_minor": 0
      },
      "text/plain": [
       "FigureWidget({\n",
       "    'data': [{'type': 'scatter',\n",
       "              'uid': 'ea949260-41b8-4f8c-8b66-8dd5844d0065',\n",
       " …"
      ]
     },
     "metadata": {},
     "output_type": "display_data"
    }
   ],
   "source": [
    "plot_cdf(acc_dic)"
   ]
  },
  {
   "cell_type": "code",
   "execution_count": 21,
   "metadata": {},
   "outputs": [],
   "source": [
    "procedure = accumulated(0.01, 0.007)"
   ]
  },
  {
   "cell_type": "code",
   "execution_count": 22,
   "metadata": {},
   "outputs": [],
   "source": [
    "acc_dic = mc(procedure, simulation=1_000_000)"
   ]
  },
  {
   "cell_type": "code",
   "execution_count": 23,
   "metadata": {},
   "outputs": [
    {
     "data": {
      "text/plain": [
       "(100.47789389067525, 41.69663414751639)"
      ]
     },
     "execution_count": 23,
     "metadata": {},
     "output_type": "execute_result"
    }
   ],
   "source": [
    "get_mean_std(acc_dic)"
   ]
  },
  {
   "cell_type": "code",
   "execution_count": 24,
   "metadata": {},
   "outputs": [
    {
     "data": {
      "application/vnd.jupyter.widget-view+json": {
       "model_id": "bb3632a1fff7472389dcc797a5256e45",
       "version_major": 2,
       "version_minor": 0
      },
      "text/plain": [
       "FigureWidget({\n",
       "    'data': [{'type': 'scatter',\n",
       "              'uid': 'ca84ff6b-5715-418b-b3fb-d74abe526180',\n",
       " …"
      ]
     },
     "metadata": {},
     "output_type": "display_data"
    }
   ],
   "source": [
    "plot_pdf(acc_dic)"
   ]
  },
  {
   "cell_type": "code",
   "execution_count": 25,
   "metadata": {},
   "outputs": [
    {
     "data": {
      "application/vnd.jupyter.widget-view+json": {
       "model_id": "d1c80fcb9462465cb0b9edb33146bdf6",
       "version_major": 2,
       "version_minor": 0
      },
      "text/plain": [
       "FigureWidget({\n",
       "    'data': [{'type': 'scatter',\n",
       "              'uid': 'a4198d39-568a-4370-b63a-f40d6b274c73',\n",
       " …"
      ]
     },
     "metadata": {},
     "output_type": "display_data"
    }
   ],
   "source": [
    "plot_cdf(acc_dic)"
   ]
  },
  {
   "cell_type": "markdown",
   "metadata": {},
   "source": [
    "From the three examples above, we see the variance is reduce and you will never fail more than 400 times.\n",
    "\n",
    "## Remark\n",
    "\n",
    "In the above procedure, the accumulated gained value `left` is greater than or equal to 0.0. But it can also be negative without any alteration of the code. In that case, the winning probability is even smaller since it has to compensate the negative value to win."
   ]
  },
  {
   "cell_type": "code",
   "execution_count": 26,
   "metadata": {},
   "outputs": [],
   "source": [
    "procedure = accumulated(0.01, 0.005, start=-1.5)"
   ]
  },
  {
   "cell_type": "code",
   "execution_count": 27,
   "metadata": {},
   "outputs": [],
   "source": [
    "acc_dic = mc(procedure, simulation=1_000_000)"
   ]
  },
  {
   "cell_type": "code",
   "execution_count": 28,
   "metadata": {},
   "outputs": [
    {
     "data": {
      "text/plain": [
       "(246.47843233916686, 143.7873340274906)"
      ]
     },
     "execution_count": 28,
     "metadata": {},
     "output_type": "execute_result"
    }
   ],
   "source": [
    "get_mean_std(acc_dic)"
   ]
  },
  {
   "cell_type": "code",
   "execution_count": 29,
   "metadata": {},
   "outputs": [
    {
     "data": {
      "application/vnd.jupyter.widget-view+json": {
       "model_id": "96ffad1af9a449d89341a713a71a0dd7",
       "version_major": 2,
       "version_minor": 0
      },
      "text/plain": [
       "FigureWidget({\n",
       "    'data': [{'type': 'scatter',\n",
       "              'uid': '214080b1-1c70-4158-906c-679f5701dac8',\n",
       " …"
      ]
     },
     "metadata": {},
     "output_type": "display_data"
    }
   ],
   "source": [
    "plot_pdf(acc_dic)"
   ]
  },
  {
   "cell_type": "code",
   "execution_count": 30,
   "metadata": {
    "scrolled": false
   },
   "outputs": [
    {
     "data": {
      "application/vnd.jupyter.widget-view+json": {
       "model_id": "7bfa9d9baea04e69bf3f8cb4e5dca744",
       "version_major": 2,
       "version_minor": 0
      },
      "text/plain": [
       "FigureWidget({\n",
       "    'data': [{'type': 'scatter',\n",
       "              'uid': 'ddf43009-d11b-40d8-9bae-b1ecc0140729',\n",
       " …"
      ]
     },
     "metadata": {},
     "output_type": "display_data"
    }
   ],
   "source": [
    "plot_cdf(acc_dic)"
   ]
  },
  {
   "cell_type": "markdown",
   "metadata": {},
   "source": [
    "### Still the uniform distribution"
   ]
  },
  {
   "cell_type": "markdown",
   "metadata": {},
   "source": [
    "## More complex methods\n",
    "\n",
    "In the above method, when lose we gain a fixed value x. We can change it to make more complex methods. For example, gain x1 when the accumulated gain is less than 0.5 and gain x2 otherwise."
   ]
  },
  {
   "cell_type": "code",
   "execution_count": 31,
   "metadata": {},
   "outputs": [],
   "source": [
    "def accumulated_complex(p, x1, x2):\n",
    "    assert p >= x1 >= 0 and p >= x2 >= 0\n",
    "    left = 0\n",
    "    def procedure():\n",
    "        nonlocal left\n",
    "        to_left = x1 if left < 0.5 else x2\n",
    "        if left + p < 1:\n",
    "            r = (p - to_left) / (1 - left - to_left)\n",
    "            win = random.random() < r\n",
    "            if win:\n",
    "                left = 0\n",
    "            else:\n",
    "                left += to_left\n",
    "            return win\n",
    "        else:\n",
    "            left = left + p - 1\n",
    "            return True\n",
    "    return procedure"
   ]
  },
  {
   "cell_type": "code",
   "execution_count": 32,
   "metadata": {},
   "outputs": [],
   "source": [
    "procedure = accumulated_complex(0.01, 0.007, 0.003)"
   ]
  },
  {
   "cell_type": "code",
   "execution_count": 33,
   "metadata": {},
   "outputs": [],
   "source": [
    "acc_dic = mc(procedure, simulation=1_000_000)"
   ]
  },
  {
   "cell_type": "code",
   "execution_count": 34,
   "metadata": {},
   "outputs": [
    {
     "data": {
      "text/plain": [
       "(100.22604250200482, 49.3414671281844)"
      ]
     },
     "execution_count": 34,
     "metadata": {},
     "output_type": "execute_result"
    }
   ],
   "source": [
    "get_mean_std(acc_dic)"
   ]
  },
  {
   "cell_type": "code",
   "execution_count": 35,
   "metadata": {},
   "outputs": [
    {
     "data": {
      "application/vnd.jupyter.widget-view+json": {
       "model_id": "77fbbfb004e943b7856a652fba13d369",
       "version_major": 2,
       "version_minor": 0
      },
      "text/plain": [
       "FigureWidget({\n",
       "    'data': [{'type': 'scatter',\n",
       "              'uid': '554fe890-bfc2-49ed-a946-030584ab057a',\n",
       " …"
      ]
     },
     "metadata": {},
     "output_type": "display_data"
    }
   ],
   "source": [
    "plot_pdf(acc_dic)"
   ]
  },
  {
   "cell_type": "code",
   "execution_count": 36,
   "metadata": {},
   "outputs": [
    {
     "data": {
      "application/vnd.jupyter.widget-view+json": {
       "model_id": "c43e21cb43f34a15bf64d03580be4c57",
       "version_major": 2,
       "version_minor": 0
      },
      "text/plain": [
       "FigureWidget({\n",
       "    'data': [{'type': 'scatter',\n",
       "              'uid': '1cb185e7-3e5d-4ab4-92f1-83f908943785',\n",
       " …"
      ]
     },
     "metadata": {},
     "output_type": "display_data"
    }
   ],
   "source": [
    "plot_cdf(acc_dic)"
   ]
  },
  {
   "cell_type": "markdown",
   "metadata": {},
   "source": [
    "## Conclusion\n",
    "\n",
    "We introduced a lottery method that has lower variances than geometric distributions and can also easily keep the gaining expectation unchanged."
   ]
  },
  {
   "cell_type": "code",
   "execution_count": null,
   "metadata": {},
   "outputs": [],
   "source": []
  }
 ],
 "metadata": {
  "kernelspec": {
   "display_name": "Python 3",
   "language": "python",
   "name": "python3"
  },
  "language_info": {
   "codemirror_mode": {
    "name": "ipython",
    "version": 3
   },
   "file_extension": ".py",
   "mimetype": "text/x-python",
   "name": "python",
   "nbconvert_exporter": "python",
   "pygments_lexer": "ipython3",
   "version": "3.7.4"
  }
 },
 "nbformat": 4,
 "nbformat_minor": 2
}

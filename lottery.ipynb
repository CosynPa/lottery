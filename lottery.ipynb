{
 "cells": [
  {
   "cell_type": "markdown",
   "metadata": {},
   "source": [
    "## Introduction\n",
    "\n",
    "There are lottery systems in many games. The simplest implementation is that one gives a fixed probability and draws the lottery with that probability. The number of trials for a win has a geometric distribution. This distribution has a drawback that the variance is very large especially when the probability is low. So we'd like to have some alternative systems to solve this problem."
   ]
  },
  {
   "cell_type": "code",
   "execution_count": 1,
   "metadata": {},
   "outputs": [],
   "source": [
    "import numpy as np\n",
    "import plotly\n",
    "import plotly.graph_objs as go\n",
    "import random\n",
    "\n",
    "from utils import *"
   ]
  },
  {
   "cell_type": "markdown",
   "metadata": {},
   "source": [
    "### Let's first see how the geometric distribution looks like"
   ]
  },
  {
   "cell_type": "code",
   "execution_count": 2,
   "metadata": {},
   "outputs": [],
   "source": [
    "def geometric(p):\n",
    "    \"\"\"Returns the procedure for the geometric distribution\"\"\"\n",
    "    def procedure():\n",
    "        return random.random() < p\n",
    "    return procedure"
   ]
  },
  {
   "cell_type": "code",
   "execution_count": 3,
   "metadata": {},
   "outputs": [
    {
     "data": {
      "text/plain": [
       "False"
      ]
     },
     "execution_count": 3,
     "metadata": {},
     "output_type": "execute_result"
    }
   ],
   "source": [
    "geometric(0.1)()"
   ]
  },
  {
   "cell_type": "code",
   "execution_count": 4,
   "metadata": {},
   "outputs": [],
   "source": [
    "geometric_dic = mc(geometric(0.01), simulation=1_000_000)"
   ]
  },
  {
   "cell_type": "code",
   "execution_count": 5,
   "metadata": {},
   "outputs": [
    {
     "data": {
      "text/plain": [
       "(100.69267948847045, 99.16500640471219)"
      ]
     },
     "execution_count": 5,
     "metadata": {},
     "output_type": "execute_result"
    }
   ],
   "source": [
    "get_mean_std(geometric_dic)"
   ]
  },
  {
   "cell_type": "code",
   "execution_count": 6,
   "metadata": {},
   "outputs": [],
   "source": [
    "def theoretical_geometric_mean_std(p):\n",
    "    mean = 1 / p\n",
    "    var = (1 - p) / p / p\n",
    "    return mean, np.sqrt(var)"
   ]
  },
  {
   "cell_type": "code",
   "execution_count": 7,
   "metadata": {},
   "outputs": [
    {
     "data": {
      "text/plain": [
       "(100.0, 99.498743710662)"
      ]
     },
     "execution_count": 7,
     "metadata": {},
     "output_type": "execute_result"
    }
   ],
   "source": [
    "theoretical_geometric_mean_std(0.01)"
   ]
  },
  {
   "cell_type": "code",
   "execution_count": 8,
   "metadata": {},
   "outputs": [
    {
     "data": {
      "application/vnd.jupyter.widget-view+json": {
       "model_id": "15514297e2d144e5a1b0cb8a16177c2a",
       "version_major": 2,
       "version_minor": 0
      },
      "text/plain": [
       "FigureWidget({\n",
       "    'data': [{'type': 'scatter',\n",
       "              'uid': '1211e95d-d61d-4195-9e2c-8c66845b11fb',\n",
       " …"
      ]
     },
     "metadata": {},
     "output_type": "display_data"
    }
   ],
   "source": [
    "plot_pdf(geometric_dic)"
   ]
  },
  {
   "cell_type": "code",
   "execution_count": 9,
   "metadata": {},
   "outputs": [
    {
     "data": {
      "application/vnd.jupyter.widget-view+json": {
       "model_id": "6c2170c808b942e383f82dcb56e0b192",
       "version_major": 2,
       "version_minor": 0
      },
      "text/plain": [
       "FigureWidget({\n",
       "    'data': [{'type': 'scatter',\n",
       "              'uid': '217149b4-e2c4-4725-903e-4901d428e672',\n",
       " …"
      ]
     },
     "metadata": {},
     "output_type": "display_data"
    }
   ],
   "source": [
    "plot_cdf(geometric_dic)"
   ]
  },
  {
   "cell_type": "markdown",
   "metadata": {},
   "source": [
    "### For simple a geometric distribution, we see even though the mean is only 100, but there is still some probability to fail more than 300 trials\n",
    "\n",
    "## A Better Solution\n",
    "\n",
    "The challenging thing is how to make another probability distribution but keep the expectation unchanged. Suppose we'd like the expectation of every trial to be 0.01. When we fail for one trial, we don't want to lose completely but gain some value such as 0.005 which means in later trials it will generate the expectation of 0.005. \n",
    "\n",
    "Now we need to calculate the probability of winning and losing. Assume the winning probability is a, and losing probability is 1 - a. When win we gain 1, when lose we gain 0.005. So the \"expectation\" will be a + 0.005 * (1 - a), which should be equal to 0.01. So we can solve to get that a = 0.005.\n",
    "\n",
    "So the initial probability is decreased, but later probability should raise, how? Take an example that we failed 60 trials, the gained value is accumulated to 0.3. If we win for the next trial, we consider that the value of 0.3 is used and it should be set back to zero, meaning that we only gain 0.7 since the gained value is decreased by 0.3. If the winning probability were still 0.005, we gained less, so the probability should increase. The expectation of the next trial is a * (1 - 0.3) + (1 - a) * 0.005. Again we can solve the value of a.\n",
    "\n",
    "One more thing to notice is that when the accumulated gained value is more than 0.99. The solution gives a probability that is greater than 1. In fact even if we have probability of 1 to win, the gain is still less than 0.01 if the accumulated gain is reset to zero after win. So in this case, we should not set the accumulated gain to zero, we should first add 0.01 and then subtract 1 instead.\n",
    "\n",
    "### Let's see how to implement it in general"
   ]
  },
  {
   "cell_type": "code",
   "execution_count": 10,
   "metadata": {},
   "outputs": [],
   "source": [
    "def accumulated(p, x):\n",
    "    \"\"\"Create a procedure that has the expectation of p and the gaining value increase by x for every failed trial\"\"\"\n",
    "    assert p >= x >= 0\n",
    "    left = 0\n",
    "    def procedure():\n",
    "        nonlocal left\n",
    "        if left + p < 1:\n",
    "            # Note, p >= x and left + p < 1 guarantee 1 - left - x > 0\n",
    "            r = (p - x) / (1 - left - x)\n",
    "            win = random.random() < r\n",
    "            if win:\n",
    "                left = 0\n",
    "            else:\n",
    "                left += x\n",
    "            return win\n",
    "        else:\n",
    "            left = left + p - 1\n",
    "            return True\n",
    "    return procedure"
   ]
  },
  {
   "cell_type": "code",
   "execution_count": 11,
   "metadata": {},
   "outputs": [],
   "source": [
    "procedure = accumulated(0.01, 0.005)"
   ]
  },
  {
   "cell_type": "code",
   "execution_count": 12,
   "metadata": {},
   "outputs": [],
   "source": [
    "acc_dic = mc(procedure, simulation=1_000_000)"
   ]
  },
  {
   "cell_type": "code",
   "execution_count": 13,
   "metadata": {},
   "outputs": [
    {
     "data": {
      "text/plain": [
       "(100.83390480032271, 57.958210414343334)"
      ]
     },
     "execution_count": 13,
     "metadata": {},
     "output_type": "execute_result"
    }
   ],
   "source": [
    "get_mean_std(acc_dic)"
   ]
  },
  {
   "cell_type": "code",
   "execution_count": 14,
   "metadata": {},
   "outputs": [
    {
     "data": {
      "application/vnd.jupyter.widget-view+json": {
       "model_id": "112abd3987c946e7b67c8ab543facc06",
       "version_major": 2,
       "version_minor": 0
      },
      "text/plain": [
       "FigureWidget({\n",
       "    'data': [{'type': 'scatter',\n",
       "              'uid': '23ab7838-07af-4114-8a3b-a9b1848a4f1a',\n",
       " …"
      ]
     },
     "metadata": {},
     "output_type": "display_data"
    }
   ],
   "source": [
    "plot_pdf(acc_dic)"
   ]
  },
  {
   "cell_type": "code",
   "execution_count": 15,
   "metadata": {
    "scrolled": false
   },
   "outputs": [
    {
     "data": {
      "application/vnd.jupyter.widget-view+json": {
       "model_id": "4e525d0ac8904cae80b19ffcecf4baf9",
       "version_major": 2,
       "version_minor": 0
      },
      "text/plain": [
       "FigureWidget({\n",
       "    'data': [{'type': 'scatter',\n",
       "              'uid': '298ff436-b548-497b-9dcf-0123955f0729',\n",
       " …"
      ]
     },
     "metadata": {},
     "output_type": "display_data"
    }
   ],
   "source": [
    "plot_cdf(acc_dic)"
   ]
  },
  {
   "cell_type": "markdown",
   "metadata": {},
   "source": [
    "### This seems to have a uniform distribution"
   ]
  },
  {
   "cell_type": "code",
   "execution_count": 16,
   "metadata": {},
   "outputs": [],
   "source": [
    "procedure = accumulated(0.01, 0.003)"
   ]
  },
  {
   "cell_type": "code",
   "execution_count": 17,
   "metadata": {},
   "outputs": [],
   "source": [
    "acc_dic = mc(procedure, simulation=1_000_000)"
   ]
  },
  {
   "cell_type": "code",
   "execution_count": 18,
   "metadata": {},
   "outputs": [
    {
     "data": {
      "text/plain": [
       "(100.28422425032595, 72.68558477131556)"
      ]
     },
     "execution_count": 18,
     "metadata": {},
     "output_type": "execute_result"
    }
   ],
   "source": [
    "get_mean_std(acc_dic)"
   ]
  },
  {
   "cell_type": "code",
   "execution_count": 19,
   "metadata": {},
   "outputs": [
    {
     "data": {
      "application/vnd.jupyter.widget-view+json": {
       "model_id": "f8ba0bbb7e524045972658a3f9c5c4e5",
       "version_major": 2,
       "version_minor": 0
      },
      "text/plain": [
       "FigureWidget({\n",
       "    'data': [{'type': 'scatter',\n",
       "              'uid': '2722e03b-0b73-4945-b788-3f79c0f6f55c',\n",
       " …"
      ]
     },
     "metadata": {},
     "output_type": "display_data"
    }
   ],
   "source": [
    "plot_pdf(acc_dic)"
   ]
  },
  {
   "cell_type": "code",
   "execution_count": 20,
   "metadata": {},
   "outputs": [
    {
     "data": {
      "application/vnd.jupyter.widget-view+json": {
       "model_id": "ad11983f30c64585bcd75b17bfa69de0",
       "version_major": 2,
       "version_minor": 0
      },
      "text/plain": [
       "FigureWidget({\n",
       "    'data': [{'type': 'scatter',\n",
       "              'uid': 'd1b5a3c5-1da5-4221-87a8-ded1e604b9db',\n",
       " …"
      ]
     },
     "metadata": {},
     "output_type": "display_data"
    }
   ],
   "source": [
    "plot_cdf(acc_dic)"
   ]
  },
  {
   "cell_type": "code",
   "execution_count": 21,
   "metadata": {},
   "outputs": [],
   "source": [
    "procedure = accumulated(0.01, 0.007)"
   ]
  },
  {
   "cell_type": "code",
   "execution_count": 22,
   "metadata": {},
   "outputs": [],
   "source": [
    "acc_dic = mc(procedure, simulation=1_000_000)"
   ]
  },
  {
   "cell_type": "code",
   "execution_count": 23,
   "metadata": {},
   "outputs": [
    {
     "data": {
      "text/plain": [
       "(100.70040281973817, 41.17190501731038)"
      ]
     },
     "execution_count": 23,
     "metadata": {},
     "output_type": "execute_result"
    }
   ],
   "source": [
    "get_mean_std(acc_dic)"
   ]
  },
  {
   "cell_type": "code",
   "execution_count": 24,
   "metadata": {},
   "outputs": [
    {
     "data": {
      "application/vnd.jupyter.widget-view+json": {
       "model_id": "d64e806cd5ce4a7abaaa0138e9abec4a",
       "version_major": 2,
       "version_minor": 0
      },
      "text/plain": [
       "FigureWidget({\n",
       "    'data': [{'type': 'scatter',\n",
       "              'uid': '4366109b-9485-4697-b984-035a80856f57',\n",
       " …"
      ]
     },
     "metadata": {},
     "output_type": "display_data"
    }
   ],
   "source": [
    "plot_pdf(acc_dic)"
   ]
  },
  {
   "cell_type": "code",
   "execution_count": 25,
   "metadata": {},
   "outputs": [
    {
     "data": {
      "application/vnd.jupyter.widget-view+json": {
       "model_id": "913fb46028be4165a55781362ba73c50",
       "version_major": 2,
       "version_minor": 0
      },
      "text/plain": [
       "FigureWidget({\n",
       "    'data': [{'type': 'scatter',\n",
       "              'uid': '8b5a267a-cc47-41d0-b6c4-abc31c674a5e',\n",
       " …"
      ]
     },
     "metadata": {},
     "output_type": "display_data"
    }
   ],
   "source": [
    "plot_cdf(acc_dic)"
   ]
  },
  {
   "cell_type": "markdown",
   "metadata": {},
   "source": [
    "From the three examples above, we see the variance is reduce and you will never fail more than 400 times.\n",
    "\n",
    "## More complex methods\n",
    "\n",
    "In the above method, when lose we gain a fixed value x. We can change it to make more complex methods. For example, gain x1 when the accumulated gain is less than 0.5 and gain x2 otherwise."
   ]
  },
  {
   "cell_type": "code",
   "execution_count": 26,
   "metadata": {},
   "outputs": [],
   "source": [
    "def accumulated_complex(p, x1, x2):\n",
    "    assert p >= x1 >= 0 and p >= x2 >= 0\n",
    "    left = 0\n",
    "    def procedure():\n",
    "        nonlocal left\n",
    "        to_left = x1 if left < 0.5 else x2\n",
    "        if left + p < 1:\n",
    "            r = (p - to_left) / (1 - left - to_left)\n",
    "            win = random.random() < r\n",
    "            if win:\n",
    "                left = 0\n",
    "            else:\n",
    "                left += to_left\n",
    "            return win\n",
    "        else:\n",
    "            left = left + p - 1\n",
    "            return True\n",
    "    return procedure"
   ]
  },
  {
   "cell_type": "code",
   "execution_count": 27,
   "metadata": {},
   "outputs": [],
   "source": [
    "procedure = accumulated_complex(0.01, 0.007, 0.003)"
   ]
  },
  {
   "cell_type": "code",
   "execution_count": 28,
   "metadata": {},
   "outputs": [],
   "source": [
    "acc_dic = mc(procedure, simulation=1_000_000)"
   ]
  },
  {
   "cell_type": "code",
   "execution_count": 29,
   "metadata": {},
   "outputs": [
    {
     "data": {
      "text/plain": [
       "(99.78872255489021, 49.01473582853449)"
      ]
     },
     "execution_count": 29,
     "metadata": {},
     "output_type": "execute_result"
    }
   ],
   "source": [
    "get_mean_std(acc_dic)"
   ]
  },
  {
   "cell_type": "code",
   "execution_count": 30,
   "metadata": {},
   "outputs": [
    {
     "data": {
      "application/vnd.jupyter.widget-view+json": {
       "model_id": "a45d9a8da7bb47ebb9f250d6d71148f6",
       "version_major": 2,
       "version_minor": 0
      },
      "text/plain": [
       "FigureWidget({\n",
       "    'data': [{'type': 'scatter',\n",
       "              'uid': '4102cc5f-cf65-4e7a-854c-5dafac76aa59',\n",
       " …"
      ]
     },
     "metadata": {},
     "output_type": "display_data"
    }
   ],
   "source": [
    "plot_pdf(acc_dic)"
   ]
  },
  {
   "cell_type": "code",
   "execution_count": 31,
   "metadata": {},
   "outputs": [
    {
     "data": {
      "application/vnd.jupyter.widget-view+json": {
       "model_id": "9eb769836cc049d8ab1b414c2cac9171",
       "version_major": 2,
       "version_minor": 0
      },
      "text/plain": [
       "FigureWidget({\n",
       "    'data': [{'type': 'scatter',\n",
       "              'uid': 'fdf45476-a398-4c1e-b748-31c943308ee1',\n",
       " …"
      ]
     },
     "metadata": {},
     "output_type": "display_data"
    }
   ],
   "source": [
    "plot_cdf(acc_dic)"
   ]
  },
  {
   "cell_type": "markdown",
   "metadata": {},
   "source": [
    "## Conclusion\n",
    "\n",
    "We introduced a lottery method that has lower variances than geometric distributions and can also easily keep the gaining expectation unchanged."
   ]
  },
  {
   "cell_type": "code",
   "execution_count": null,
   "metadata": {},
   "outputs": [],
   "source": []
  }
 ],
 "metadata": {
  "kernelspec": {
   "display_name": "Python 3",
   "language": "python",
   "name": "python3"
  },
  "language_info": {
   "codemirror_mode": {
    "name": "ipython",
    "version": 3
   },
   "file_extension": ".py",
   "mimetype": "text/x-python",
   "name": "python",
   "nbconvert_exporter": "python",
   "pygments_lexer": "ipython3",
   "version": "3.7.4"
  }
 },
 "nbformat": 4,
 "nbformat_minor": 2
}
